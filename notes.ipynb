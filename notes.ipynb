{
 "cells": [
  {
   "cell_type": "code",
   "execution_count": 6,
   "id": "73ea875f",
   "metadata": {},
   "outputs": [
    {
     "name": "stdout",
     "output_type": "stream",
     "text": [
      "\n",
      "mood_music_django/\n",
      "├── mood_music/            # Main Django project\n",
      "│   ├── settings.py\n",
      "│   └── urls.py\n",
      "│\n",
      "├── recommender/           # Your app\n",
      "│   ├── views.py\n",
      "│   ├── urls.py\n",
      "│   ├── templates/\n",
      "│   │   └── index.html\n",
      "│   ├── static/\n",
      "│   └── spotify_utils.py   # Spotify API logic\n",
      "│\n",
      "├── mood_classifier.py     # NLP mood detection\n",
      "├── .env                   # Secrets like SPOTIPY_CLIENT_ID\n",
      "└── manage.py\n",
      "\n"
     ]
    }
   ],
   "source": [
    "print(\"\"\"\n",
    "mood_music_django/\n",
    "├── mood_music/            # Main Django project\n",
    "│   ├── settings.py\n",
    "│   └── urls.py\n",
    "│\n",
    "├── recommender/           # Your app\n",
    "│   ├── views.py\n",
    "│   ├── urls.py\n",
    "│   ├── templates/\n",
    "│   │   └── index.html\n",
    "│   ├── static/\n",
    "│   └── spotify_utils.py   # Spotify API logic\n",
    "│\n",
    "├── mood_classifier.py     # NLP mood detection\n",
    "├── .env                   # Secrets like SPOTIPY_CLIENT_ID\n",
    "└── manage.py\n",
    "\"\"\")"
   ]
  },
  {
   "cell_type": "markdown",
   "id": "a530fa2e",
   "metadata": {},
   "source": [
    "# 1"
   ]
  },
  {
   "cell_type": "code",
   "execution_count": 5,
   "id": "8b19462e",
   "metadata": {},
   "outputs": [],
   "source": [
    "import os\n",
    "from dotenv import load_dotenv\n",
    "\n",
    "load_dotenv()\n",
    "SPOTIPY_CLIENT_ID = os.getenv(\"SPOTIPY_CLIENT_ID\")\n",
    "SPOTIPY_CLIENT_SECRET = os.getenv(\"SPOTIPY_CLIENT_SECRET\")\n",
    "SPOTIPY_REDIRECT_URI = os.getenv(\"SPOTIPY_REDIRECT_URI\")"
   ]
  },
  {
   "cell_type": "markdown",
   "id": "b13f9efc",
   "metadata": {},
   "source": [
    "| Line                             | What it means                                           |\n",
    "| -------------------------------- | ------------------------------------------------------- |\n",
    "| `import os`                      | Built-in module to access environment variables         |\n",
    "| `from dotenv import load_dotenv` | Lets Python load secret keys from a `.env` file         |\n",
    "| `load_dotenv()`                  | Reads `.env` and sets the keys as environment variables |\n",
    "| `os.getenv(\"...\")`               | Pulls those variables into your Python code             |"
   ]
  }
 ],
 "metadata": {
  "kernelspec": {
   "display_name": "spotify",
   "language": "python",
   "name": "python3"
  },
  "language_info": {
   "codemirror_mode": {
    "name": "ipython",
    "version": 3
   },
   "file_extension": ".py",
   "mimetype": "text/x-python",
   "name": "python",
   "nbconvert_exporter": "python",
   "pygments_lexer": "ipython3",
   "version": "3.13.5"
  }
 },
 "nbformat": 4,
 "nbformat_minor": 5
}
